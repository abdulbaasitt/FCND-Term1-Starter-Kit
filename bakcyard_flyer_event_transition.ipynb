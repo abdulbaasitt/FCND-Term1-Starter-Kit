{
 "cells": [
  {
   "cell_type": "code",
   "execution_count": 1,
   "metadata": {},
   "outputs": [],
   "source": [
    "import time\n",
    "from enum import Enum\n",
    "import numpy as np\n",
    "from udacidrone import Drone\n",
    "from udacidrone.connection import MavlinkConnection\n",
    "from udacidrone.messaging import MsgID"
   ]
  },
  {
   "cell_type": "code",
   "execution_count": 2,
   "metadata": {},
   "outputs": [],
   "source": [
    "class Phases(Enum):\n",
    "    MANUAL = 0\n",
    "    ARMING = 1\n",
    "    TAKEOFF = 2\n",
    "    LANDING = 3\n",
    "    DISARMING = 4"
   ]
  },
  {
   "cell_type": "code",
   "execution_count": 3,
   "metadata": {},
   "outputs": [],
   "source": [
    "class UpAndDownFlyer(Drone):\n",
    "\n",
    "    def __init__(self, connection):\n",
    "        super().__init__(connection)\n",
    "        self.target_position = np.array([0.0, 0.0, 0.0])\n",
    "        self.in_mission = True\n",
    "\n",
    "        # initial state\n",
    "        self.flight_phase = Phases.MANUAL\n",
    "\n",
    "        # register all your callbacks here\n",
    "        self.register_callback(MsgID.LOCAL_POSITION,\n",
    "                               self.local_position_callback)\n",
    "        self.register_callback(MsgID.LOCAL_VELOCITY,\n",
    "                               self.velocity_callback)\n",
    "        self.register_callback(MsgID.STATE,\n",
    "                               self.state_callback)\n",
    "\n",
    "    def local_position_callback(self):\n",
    "        if self.flight_phase == Phases.TAKEOFF:\n",
    "\n",
    "            # coordinate conversion \n",
    "            altitude = -1.0 * self.local_position[2]\n",
    "\n",
    "            # check if altitude is within 95% of target\n",
    "            if altitude > 0.95 * self.target_position[2]:\n",
    "                self.landing_transition()\n",
    "\n",
    "    def velocity_callback(self):\n",
    "        if self.flight_phase == Phases.LANDING:\n",
    "            if ((self.global_position[2] - self.global_home[2] < 0.1) and\n",
    "            abs(self.local_position[2]) < 0.01):\n",
    "                self.disarming_transition()\n",
    "\n",
    "    def state_callback(self):\n",
    "        if not self.in_mission:\n",
    "            return\n",
    "        if self.flight_phase == Phases.MANUAL:\n",
    "            self.arming_transition()\n",
    "        elif self.flight_phase == Phases.ARMING:\n",
    "            if self.armed:\n",
    "                self.takeoff_transition()\n",
    "        elif self.flight_phase == Phases.DISARMING:\n",
    "            if not self.armed:\n",
    "                self.manual_transition()\n",
    "\n",
    "    def arming_transition(self):\n",
    "        print(\"arming transition\")\n",
    "        self.take_control()\n",
    "        self.arm()\n",
    "\n",
    "        # set the current location to be the home position\n",
    "        self.set_home_position(self.global_position[0],\n",
    "                               self.global_position[1],\n",
    "                               self.global_position[2])\n",
    "\n",
    "        self.flight_phase = Phases.ARMING\n",
    "\n",
    "    def takeoff_transition(self):\n",
    "        print(\"takeoff transition\")\n",
    "        target_altitude = 3.0\n",
    "        self.target_position[2] = target_altitude\n",
    "        self.takeoff(target_altitude)\n",
    "        self.flight_phase = Phases.TAKEOFF\n",
    "\n",
    "    def landing_transition(self):\n",
    "        print(\"landing transition\")\n",
    "        self.land()\n",
    "        self.flight_phase = Phases.LANDING\n",
    "\n",
    "    def disarming_transition(self):\n",
    "        print(\"disarm transition\")\n",
    "        self.disarm()\n",
    "        self.flight_phase = Phases.DISARMING\n",
    "\n",
    "    def manual_transition(self):\n",
    "        print(\"manual transition\")\n",
    "        self.release_control()\n",
    "        self.stop()\n",
    "        self.in_mission = False\n",
    "        self.flight_phase = Phases.MANUAL\n",
    "\n",
    "    def start(self):\n",
    "        self.start_log(\"Logs\", \"NavLog.txt\")\n",
    "        print(\"starting connection\")\n",
    "        super().start()\n",
    "        self.stop_log()\n"
   ]
  },
  {
   "cell_type": "code",
   "execution_count": 4,
   "metadata": {},
   "outputs": [
    {
     "name": "stdout",
     "output_type": "stream",
     "text": [
      "Logs/TLog.txt\n",
      "Logs/NavLog.txt\n",
      "starting connection\n",
      "arming transition\n",
      "takeoff transition\n",
      "landing transition\n",
      "disarm transition\n",
      "manual transition\n",
      "Closing connection ...\n"
     ]
    }
   ],
   "source": [
    "if __name__ == \"__main__\":\n",
    "    conn = MavlinkConnection('tcp:127.0.0.1:5760', \n",
    "                             threaded=False, \n",
    "                             PX4=False)\n",
    "    drone = UpAndDownFlyer(conn)\n",
    "    time.sleep(2)\n",
    "    drone.start()"
   ]
  },
  {
   "cell_type": "code",
   "execution_count": null,
   "metadata": {},
   "outputs": [],
   "source": []
  }
 ],
 "metadata": {
  "graffiti": {
   "firstAuthorId": "813558546",
   "id": "id_svft7kc",
   "language": "EN"
  },
  "kernelspec": {
   "display_name": "fcnd_new",
   "language": "python",
   "name": "python3"
  },
  "language_info": {
   "codemirror_mode": {
    "name": "ipython",
    "version": 3
   },
   "file_extension": ".py",
   "mimetype": "text/x-python",
   "name": "python",
   "nbconvert_exporter": "python",
   "pygments_lexer": "ipython3",
   "version": "3.6.3"
  }
 },
 "nbformat": 4,
 "nbformat_minor": 2
}
